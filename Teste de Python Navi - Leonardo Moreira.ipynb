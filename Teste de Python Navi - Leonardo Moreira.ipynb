{
 "cells": [
  {
   "cell_type": "markdown",
   "id": "ce1691cd",
   "metadata": {},
   "source": [
    "Teste 1 de Python"
   ]
  },
  {
   "cell_type": "code",
   "execution_count": 53,
   "id": "fb38dc90",
   "metadata": {},
   "outputs": [
    {
     "name": "stdout",
     "output_type": "stream",
     "text": [
      "Existem 1378 números pares e múltiplos de 37 e 49 no intervalo de 1 a 5 milhões \n"
     ]
    }
   ],
   "source": [
    "cont = 0 # Contador\n",
    "\n",
    "# For para calculo do numero par e multiplo de 37 e 49 \n",
    "for n in range(1,5000001,1):\n",
    "    if (n%2 == 0) and (n%37 == 0 and n%49 == 0):\n",
    "        cont += 1\n",
    "\n",
    "print(\"Existem {} números pares e múltiplos de 37 e 49 no intervalo de 1 a 5 milhões \".format(cont))        \n"
   ]
  },
  {
   "cell_type": "markdown",
   "id": "2032d64b",
   "metadata": {},
   "source": [
    "Teste 2 de Python"
   ]
  },
  {
   "cell_type": "code",
   "execution_count": 52,
   "id": "976f61ba",
   "metadata": {},
   "outputs": [
    {
     "name": "stdout",
     "output_type": "stream",
     "text": [
      "8\n",
      "29555.94\n",
      "O maior elemento tem posição 8 e a média do vetor é 29555.94 \n"
     ]
    }
   ],
   "source": [
    "import math  # importando a biblioteca Math\n",
    "import numpy  as np # importando a biblioteca Numpy\n",
    "\n",
    "# Vetor com 10 posições\n",
    "vetor_x = list(range(10))\n",
    "\n",
    "# Preenchendo o vetor com os valores e filtrando se é par ou ímpar \n",
    "for i in range(0,10):\n",
    "    if i % 2 == 0:\n",
    "        vetor_x[i] = 3**i + 7*math.factorial(i)\n",
    "    else:\n",
    "        vetor_x[i] = 2**i + 4*ln(i)\n",
    "       \n",
    "\n",
    "maior = max(vetor_x)  # Armazenando o maior elemento do vetor\n",
    "maior_pos = vetor_x.index(maior) # Posição do maior elemento do vetor\n",
    "print(maior_pos) # Imprimindo a posição do maior elemento do vetor\n",
    "media = np.mean(vetor_x) # Calculando a média do vetor\n",
    "print(round(media,2)) # Imprimindo a média com arredondamento de 2 casas decimais\n",
    "print(\"O maior elemento tem posição {} e a média do vetor é {} \".format(maior_pos,round(media,2)))\n",
    "\n"
   ]
  },
  {
   "cell_type": "markdown",
   "id": "d7696404",
   "metadata": {},
   "source": [
    "Teste 3 de Python"
   ]
  },
  {
   "cell_type": "code",
   "execution_count": 51,
   "id": "a9990a99",
   "metadata": {},
   "outputs": [
    {
     "name": "stdout",
     "output_type": "stream",
     "text": [
      "Entre com a nota do Aluno José\n",
      "5\n",
      "Entre com a nota do Aluno Gabriel\n",
      "8\n",
      "Entre com a nota do Aluno Paulo\n",
      "9\n",
      "Entre com a nota do Aluno Gustavo\n",
      "1\n",
      "Entre com a nota do Aluno Renato\n",
      "5\n",
      "Aluno Paulo 9\n",
      "Aluno Gabriel 8\n",
      "Aluno José 5\n",
      "Aluno Renato 5\n",
      "Aluno Gustavo 1\n"
     ]
    }
   ],
   "source": [
    "# Dicionário para armazenar as Notas dos Alunos \n",
    "dicionario_notas = {}\n",
    "\n",
    "# Lista com o nome dos alunos \n",
    "lista_alunos = [\"José\", \"Gabriel\", \"Paulo\", \"Gustavo\", \"Renato\"]\n",
    "\n",
    "# For para capturas as notas\n",
    "for n in range(0, 5, 1):\n",
    "    print(\"Entre com a nota do Aluno \" + lista_alunos[n])\n",
    "    dicionario_notas.update({\"Aluno \" + lista_alunos[n] : input()})\n",
    "\n",
    "# For para ordenar o dicionário \n",
    "for i in sorted(dicionario_notas, key = dicionario_notas.get, reverse = True):\n",
    "    print(i , dicionario_notas[i])"
   ]
  }
 ],
 "metadata": {
  "celltoolbar": "Raw Cell Format",
  "kernelspec": {
   "display_name": "Python 3",
   "language": "python",
   "name": "python3"
  },
  "language_info": {
   "codemirror_mode": {
    "name": "ipython",
    "version": 3
   },
   "file_extension": ".py",
   "mimetype": "text/x-python",
   "name": "python",
   "nbconvert_exporter": "python",
   "pygments_lexer": "ipython3",
   "version": "3.8.8"
  }
 },
 "nbformat": 4,
 "nbformat_minor": 5
}
